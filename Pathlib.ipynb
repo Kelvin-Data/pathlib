{
  "nbformat": 4,
  "nbformat_minor": 0,
  "metadata": {
    "colab": {
      "private_outputs": true,
      "provenance": [],
      "authorship_tag": "ABX9TyMGxfbnpbKFDpERKQD7DEZB",
      "include_colab_link": true
    },
    "kernelspec": {
      "name": "python3",
      "display_name": "Python 3"
    },
    "language_info": {
      "name": "python"
    }
  },
  "cells": [
    {
      "cell_type": "markdown",
      "metadata": {
        "id": "view-in-github",
        "colab_type": "text"
      },
      "source": [
        "<a href=\"https://colab.research.google.com/github/Kelvin-Data/pathlib/blob/main/Pathlib.ipynb\" target=\"_parent\"><img src=\"https://colab.research.google.com/assets/colab-badge.svg\" alt=\"Open In Colab\"/></a>"
      ]
    },
    {
      "cell_type": "markdown",
      "source": [
        "1) Interact with the file system\n",
        "2) Work accross all OS\n",
        "3) treating file paths as an object"
      ],
      "metadata": {
        "id": "piR8Uy3-EgFu"
      }
    },
    {
      "cell_type": "code",
      "execution_count": null,
      "metadata": {
        "id": "4JK-LPGnDjbB"
      },
      "outputs": [],
      "source": [
        "from pathlib import Path"
      ]
    },
    {
      "cell_type": "markdown",
      "source": [
        "**Home Directory**"
      ],
      "metadata": {
        "id": "KLR0kG97GCHa"
      }
    },
    {
      "cell_type": "markdown",
      "source": [
        "windows formatting: c:\\main folder\\folrder 1\\folder2\\finalfolder"
      ],
      "metadata": {
        "id": "wGE-ttNIFnoj"
      }
    },
    {
      "cell_type": "code",
      "source": [
        "home_dir = Path.home()\n",
        "home_dir"
      ],
      "metadata": {
        "id": "s6Vj5wcjFOKj"
      },
      "execution_count": null,
      "outputs": []
    },
    {
      "cell_type": "markdown",
      "source": [
        "**Current Directory**"
      ],
      "metadata": {
        "id": "ggZFW1UGGGnp"
      }
    },
    {
      "cell_type": "code",
      "source": [
        "# curr_file = Path(__file__)\n",
        "# curr_file"
      ],
      "metadata": {
        "id": "YrC2utHoGK3S"
      },
      "execution_count": null,
      "outputs": []
    },
    {
      "cell_type": "markdown",
      "source": [
        "**Get the first parent folder path**"
      ],
      "metadata": {
        "id": "HKqGXg1SGaNs"
      }
    },
    {
      "cell_type": "code",
      "source": [
        "one_above = Path.cwd().parent\n",
        "one_above"
      ],
      "metadata": {
        "id": "EZznZB2XGf9o"
      },
      "execution_count": null,
      "outputs": []
    },
    {
      "cell_type": "markdown",
      "source": [
        "**Get the ?th parent folder path**"
      ],
      "metadata": {
        "id": "XpvxYV_YG0Bw"
      }
    },
    {
      "cell_type": "code",
      "source": [
        "mul_above = Path.cwd().parents[2]\n",
        "mul_above"
      ],
      "metadata": {
        "id": "USNnDWRWHE4a"
      },
      "execution_count": null,
      "outputs": []
    },
    {
      "cell_type": "markdown",
      "source": [
        "**Join paths**"
      ],
      "metadata": {
        "id": "eG62wb0wJYJn"
      }
    },
    {
      "cell_type": "code",
      "source": [
        "joined_path = Path.cwd() / 'Output'\n",
        "joined_path"
      ],
      "metadata": {
        "id": "HbtC7VCaJclf"
      },
      "execution_count": null,
      "outputs": []
    },
    {
      "cell_type": "markdown",
      "source": [
        "**Create a directory if it does not exist**"
      ],
      "metadata": {
        "id": "BTRdPiU7Kvrl"
      }
    },
    {
      "cell_type": "code",
      "source": [
        "joined_path.mkdir(exist_ok=True)"
      ],
      "metadata": {
        "id": "kun80EipK39l"
      },
      "execution_count": null,
      "outputs": []
    },
    {
      "cell_type": "markdown",
      "source": [
        "**Check if the  path is a folder**"
      ],
      "metadata": {
        "id": "hIxHsiKkLrNV"
      }
    },
    {
      "cell_type": "code",
      "source": [
        "joined_path.is_dir()"
      ],
      "metadata": {
        "id": "Ouqy3sqBLxGr"
      },
      "execution_count": null,
      "outputs": []
    },
    {
      "cell_type": "markdown",
      "source": [
        "**Check if the path is a file**"
      ],
      "metadata": {
        "id": "6sNwZpVZL9fl"
      }
    },
    {
      "cell_type": "code",
      "source": [
        "example_file = Path.cwd() / \"somefile.txt\"\n",
        "example_file"
      ],
      "metadata": {
        "id": "1Vez5QG7L8hj"
      },
      "execution_count": null,
      "outputs": []
    },
    {
      "cell_type": "markdown",
      "source": [
        "**Get the file name**"
      ],
      "metadata": {
        "id": "QaT-BCKuMrwa"
      }
    },
    {
      "cell_type": "code",
      "source": [
        "# file_name = example_file.name\n",
        "file_name = example_file.stem\n",
        "file_name"
      ],
      "metadata": {
        "id": "i9GZuWMqMv54"
      },
      "execution_count": null,
      "outputs": []
    },
    {
      "cell_type": "markdown",
      "source": [
        "**Get the file extension**"
      ],
      "metadata": {
        "id": "lpMlXNhZNW0A"
      }
    },
    {
      "cell_type": "code",
      "source": [
        "file_extension = example_file.suffix\n",
        "file_extension"
      ],
      "metadata": {
        "id": "mhTeB_aRNbmR"
      },
      "execution_count": null,
      "outputs": []
    },
    {
      "cell_type": "markdown",
      "source": [
        "**Iterate over files in a directory**"
      ],
      "metadata": {
        "id": "o9C1K3g0Nq_R"
      }
    },
    {
      "cell_type": "code",
      "source": [
        "target_dir = Path.cwd() / \"Sample Files\"\n",
        "for file in target_dir.iterdir():\n",
        "  print(file)"
      ],
      "metadata": {
        "id": "WBade5OlNpa5"
      },
      "execution_count": null,
      "outputs": []
    },
    {
      "cell_type": "code",
      "source": [
        "target_dir = Path.cwd() / \"Sample Files\"\n",
        "for file in target_dir.iterdir():\n",
        " # print(file)\n",
        " # if file.suffix == \".png\":\n",
        "  if file.suffix == \".pdf\":\n",
        "    print(file)"
      ],
      "metadata": {
        "id": "72UDWLm0QsOv"
      },
      "execution_count": null,
      "outputs": []
    }
  ]
}